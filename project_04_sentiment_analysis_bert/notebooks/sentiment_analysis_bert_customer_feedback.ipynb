{
 "cells": [
  {
   "cell_type": "markdown",
   "id": "72ed8a7e",
   "metadata": {},
   "source": [
    "# 🧠 Sentiment Analysis of Customer Feedback using BERT\n",
    "\n",
    "## 🔍 Objective\n",
    "In this project, we aim to classify customer feedback into positive or negative sentiment using a BERT-based deep learning model. This can help automate customer sentiment tracking and improve support quality monitoring.\n",
    "\n",
    "We’ll use the **Customer Feedback Dataset** from Kaggle, which contains short feedback messages and their associated sentiment labels.\n",
    "\n",
    "---\n",
    "\n",
    "## ⚙️ Environment Setup\n",
    "\n",
    "Before continuing, we verify the Python environment and install any missing libraries. We'll be using:\n",
    "- Python 3.8+\n",
    "- PyTorch\n",
    "- Hugging Face Transformers\n",
    "- pandas\n",
    "- scikit-learn (for evaluation)\n",
    "\n",
    "> Note: This notebook is intended to run inside VSCode using the Jupyter extension, with a virtual environment activated.\n"
   ]
  },
  {
   "cell_type": "markdown",
   "id": "e08049b8",
   "metadata": {},
   "source": []
  },
  {
   "cell_type": "code",
   "execution_count": 4,
   "id": "ebdea546",
   "metadata": {},
   "outputs": [
    {
     "name": "stdout",
     "output_type": "stream",
     "text": [
      "Python version: 3.13.2 (v3.13.2:4f8bb3947cf, Feb  4 2025, 11:51:10) [Clang 15.0.0 (clang-1500.3.9.4)]\n",
      "PyTorch version: 2.8.0\n",
      "GPU available: False\n"
     ]
    }
   ],
   "source": [
    "import sys\n",
    "import torch\n",
    "\n",
    "print(f\"Python version: {sys.version}\")\n",
    "print(f\"PyTorch version: {torch.__version__}\")\n",
    "print(f\"GPU available: {torch.cuda.is_available()}\")\n",
    "\n",
    "# For Colab users: install required packages\n",
    "# Uncomment the line below if running in Google Colab\n",
    "# !pip install transformers pandas scikit-learn torch\n"
   ]
  },
  {
   "cell_type": "code",
   "execution_count": null,
   "id": "45a1562c",
   "metadata": {},
   "outputs": [],
   "source": []
  }
 ],
 "metadata": {
  "kernelspec": {
   "display_name": "venv",
   "language": "python",
   "name": "python3"
  },
  "language_info": {
   "codemirror_mode": {
    "name": "ipython",
    "version": 3
   },
   "file_extension": ".py",
   "mimetype": "text/x-python",
   "name": "python",
   "nbconvert_exporter": "python",
   "pygments_lexer": "ipython3",
   "version": "3.13.2"
  }
 },
 "nbformat": 4,
 "nbformat_minor": 5
}
